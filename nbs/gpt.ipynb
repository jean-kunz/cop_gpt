{
 "cells": [
  {
   "cell_type": "code",
   "execution_count": 31,
   "metadata": {},
   "outputs": [],
   "source": [
    "import torch\n",
    "import torch.nn.functional as F\n",
    "import torch.nn as nn\n",
    "import math\n",
    "import numpy as np\n",
    "from torch.utils.tensorboard import SummaryWriter\n",
    "from pathlib import Path\n",
    "from datetime import datetime\n",
    "import matplotlib.pyplot as plt\n",
    "import regex as re"
   ]
  },
  {
   "cell_type": "code",
   "execution_count": 2,
   "metadata": {},
   "outputs": [
    {
     "data": {
      "text/plain": [
       "device(type='mps')"
      ]
     },
     "execution_count": 2,
     "metadata": {},
     "output_type": "execute_result"
    }
   ],
   "source": [
    "device = torch.device(\"mps\") if torch.backends.mps.is_available() else torch.device(\"cpu\")\n",
    "device"
   ]
  },
  {
   "cell_type": "code",
   "execution_count": 3,
   "metadata": {},
   "outputs": [],
   "source": [
    "do_download:bool=False\n",
    "if do_download:\n",
    "    !wget https://raw.githubusercontent.com/karpathy/char-rnn/master/data/tinyshakespeare/input.txt"
   ]
  },
  {
   "cell_type": "code",
   "execution_count": 4,
   "metadata": {},
   "outputs": [
    {
     "data": {
      "text/plain": [
       "torch.Size([4, 8, 2])"
      ]
     },
     "execution_count": 4,
     "metadata": {},
     "output_type": "execute_result"
    }
   ],
   "source": [
    "torch.manual_seed(1337)\n",
    "B, T, C = 4, 8, 2\n",
    "x = torch.randn(B, T, C)\n",
    "x.shape"
   ]
  },
  {
   "cell_type": "markdown",
   "metadata": {},
   "source": [
    "## Different methods to compute rolling mean on T axis.\n",
    "like weighted sum with same weight on previous items of sequence"
   ]
  },
  {
   "cell_type": "code",
   "execution_count": 5,
   "metadata": {},
   "outputs": [
    {
     "data": {
      "text/plain": [
       "torch.Size([4, 8, 2])"
      ]
     },
     "execution_count": 5,
     "metadata": {},
     "output_type": "execute_result"
    }
   ],
   "source": [
    "# method 1\n",
    "xbow = torch.zeros((B, T, C))\n",
    "xbow.shape\n",
    "for b in range(B):\n",
    "    for t in range(T):\n",
    "        xprev = x[b, : t + 1]\n",
    "        # print(b, t, xprev.shape)\n",
    "        xbow[b, t] = torch.mean(xprev, 0)\n",
    "        # print(\"-----\")\n",
    "        # print(xbow)\n",
    "\n",
    "xbow.shape"
   ]
  },
  {
   "cell_type": "code",
   "execution_count": 6,
   "metadata": {},
   "outputs": [
    {
     "name": "stdout",
     "output_type": "stream",
     "text": [
      "weight tensor([[1.0000, 0.0000, 0.0000, 0.0000, 0.0000, 0.0000, 0.0000, 0.0000],\n",
      "        [0.5000, 0.5000, 0.0000, 0.0000, 0.0000, 0.0000, 0.0000, 0.0000],\n",
      "        [0.3333, 0.3333, 0.3333, 0.0000, 0.0000, 0.0000, 0.0000, 0.0000],\n",
      "        [0.2500, 0.2500, 0.2500, 0.2500, 0.0000, 0.0000, 0.0000, 0.0000],\n",
      "        [0.2000, 0.2000, 0.2000, 0.2000, 0.2000, 0.0000, 0.0000, 0.0000],\n",
      "        [0.1667, 0.1667, 0.1667, 0.1667, 0.1667, 0.1667, 0.0000, 0.0000],\n",
      "        [0.1429, 0.1429, 0.1429, 0.1429, 0.1429, 0.1429, 0.1429, 0.0000],\n",
      "        [0.1250, 0.1250, 0.1250, 0.1250, 0.1250, 0.1250, 0.1250, 0.1250]])\n"
     ]
    },
    {
     "data": {
      "text/plain": [
       "True"
      ]
     },
     "execution_count": 6,
     "metadata": {},
     "output_type": "execute_result"
    }
   ],
   "source": [
    "# method 2\n",
    "wei = torch.tril(torch.ones((T, T)))\n",
    "# print(wei)\n",
    "wei = wei / wei.sum(axis=1, keepdim=True)\n",
    "print(\"weight\", wei)\n",
    "xbow2 = wei @ x  # B,T,C @ B,T,T ---> B,T,C\n",
    "torch.allclose(xbow, xbow2)"
   ]
  },
  {
   "cell_type": "code",
   "execution_count": 7,
   "metadata": {},
   "outputs": [
    {
     "name": "stdout",
     "output_type": "stream",
     "text": [
      "weight tensor([[1.0000, 0.0000, 0.0000, 0.0000, 0.0000, 0.0000, 0.0000, 0.0000],\n",
      "        [0.5000, 0.5000, 0.0000, 0.0000, 0.0000, 0.0000, 0.0000, 0.0000],\n",
      "        [0.3333, 0.3333, 0.3333, 0.0000, 0.0000, 0.0000, 0.0000, 0.0000],\n",
      "        [0.2500, 0.2500, 0.2500, 0.2500, 0.0000, 0.0000, 0.0000, 0.0000],\n",
      "        [0.2000, 0.2000, 0.2000, 0.2000, 0.2000, 0.0000, 0.0000, 0.0000],\n",
      "        [0.1667, 0.1667, 0.1667, 0.1667, 0.1667, 0.1667, 0.0000, 0.0000],\n",
      "        [0.1429, 0.1429, 0.1429, 0.1429, 0.1429, 0.1429, 0.1429, 0.0000],\n",
      "        [0.1250, 0.1250, 0.1250, 0.1250, 0.1250, 0.1250, 0.1250, 0.1250]])\n"
     ]
    },
    {
     "data": {
      "text/plain": [
       "True"
      ]
     },
     "execution_count": 7,
     "metadata": {},
     "output_type": "execute_result"
    }
   ],
   "source": [
    "# method 3 using softmax\n",
    "tril = torch.tril(torch.ones((T, T)))\n",
    "wei = torch.zeros((T, T))\n",
    "# print(wei)\n",
    "wei = wei.masked_fill(tril == 0, value=float(\"-inf\"))\n",
    "# print(wei)\n",
    "wei = F.softmax(wei, dim=1)\n",
    "print(\"weight\", wei)\n",
    "\n",
    "xbow3 = wei @ x\n",
    "torch.allclose(xbow, xbow3)"
   ]
  },
  {
   "cell_type": "markdown",
   "metadata": {},
   "source": [
    "# model"
   ]
  },
  {
   "cell_type": "code",
   "execution_count": 8,
   "metadata": {},
   "outputs": [],
   "source": [
    "with open(\"./input.txt\", \"r\", encoding=\"utf-8\") as f:\n",
    "    text = f.read()"
   ]
  },
  {
   "cell_type": "code",
   "execution_count": 9,
   "metadata": {},
   "outputs": [],
   "source": [
    "chars = sorted(list(set(text)))\n",
    "vocab_size = len(chars)\n",
    "stoi = {s: i for i, s in enumerate(chars)}\n",
    "itos = {i: s for i, s in enumerate(chars)}\n",
    "\n",
    "\n",
    "def encode(s: str) -> list[int]:\n",
    "    return [stoi[c] for c in s]\n",
    "\n",
    "\n",
    "def decode(l: list[int]) -> str:\n",
    "    return \"\".join([itos[i] for i in l])"
   ]
  },
  {
   "cell_type": "code",
   "execution_count": 10,
   "metadata": {},
   "outputs": [
    {
     "data": {
      "text/plain": [
       "\"j'aime les chats\""
      ]
     },
     "execution_count": 10,
     "metadata": {},
     "output_type": "execute_result"
    }
   ],
   "source": [
    "decode(encode(\"j'aime les chats\"))\n",
    "# stoi[\"a\"], stoi[\"A\"]"
   ]
  },
  {
   "cell_type": "code",
   "execution_count": 11,
   "metadata": {},
   "outputs": [],
   "source": [
    "torch.manual_seed(42)\n",
    "# Compute train and validation data\n",
    "data = torch.tensor(encode(text), dtype=torch.long)\n",
    "n = int(0.9 * len(text))\n",
    "train = data[:n]\n",
    "val = data[n:]\n",
    "\n",
    "\n",
    "def get_batch(split: str = \"train\", batch_size: int = 16, block_size: int = 8):\n",
    "    data = train if split == \"train\" else val\n",
    "    ix = torch.randint(len(data) - block_size, (batch_size,))\n",
    "    # ix are random starting points of each batch\n",
    "    x = torch.stack([data[i : i + block_size] for i in ix])\n",
    "    y = torch.stack([data[i + 1 : i + block_size + 1] for i in ix])\n",
    "    x = x.to(device)\n",
    "    y = y.to(device)\n",
    "    return x, y"
   ]
  },
  {
   "cell_type": "code",
   "execution_count": 12,
   "metadata": {},
   "outputs": [
    {
     "data": {
      "text/plain": [
       "(torch.Size([16, 8]), torch.Size([16, 8]))"
      ]
     },
     "execution_count": 12,
     "metadata": {},
     "output_type": "execute_result"
    }
   ],
   "source": [
    "x, y = get_batch(batch_size=16, block_size=8)\n",
    "x, y\n",
    "x.shape, y.shape"
   ]
  },
  {
   "cell_type": "code",
   "execution_count": 13,
   "metadata": {},
   "outputs": [],
   "source": [
    "torch.manual_seed(42)\n",
    "B, T, C = 16, 8, 32\n",
    "x = torch.rand(B, T, C)\n",
    "\n",
    "head_size = 32\n",
    "key = nn.Linear(C, head_size)\n",
    "k = key(x)\n",
    "query = nn.Linear(C, head_size)\n",
    "q = query(x)\n",
    "value = nn.Linear(C, head_size)\n",
    "v = value(x)\n",
    "\n",
    "wei = q @ k.transpose(-2, -1) * head_size**-0.5\n",
    "tril = torch.tril(torch.ones(T, T))\n",
    "wei = wei.masked_fill(tril == 0, float(\"-inf\"))\n",
    "wei = F.softmax(wei, dim=-1)\n",
    "\n",
    "out = wei @ v\n",
    "# out.shape"
   ]
  },
  {
   "cell_type": "code",
   "execution_count": 14,
   "metadata": {},
   "outputs": [
    {
     "data": {
      "text/plain": [
       "tensor([[[ 1.,  3.,  5.],\n",
       "         [ 3., 13., 23.],\n",
       "         [ 5., 23., 41.]]])"
      ]
     },
     "execution_count": 14,
     "metadata": {},
     "output_type": "execute_result"
    }
   ],
   "source": [
    "# test with a hard coded query and key\n",
    "q = torch.tensor([[[0.0, 1.0], [2.0, 3.0], [4.0, 5.0]]])\n",
    "k = torch.tensor([[[0.0, 1.0], [2.0, 3.0], [4.0, 5.0]]])\n",
    "B, T, C = q.shape\n",
    "q.shape\n",
    "wei = q @ k.transpose(-2, -1)  # * head_size**-0.5\n",
    "tril = torch.tril(torch.ones(T, T))\n",
    "# wei = wei.masked_fill(tril == 0, float(\"-inf\"))\n",
    "# wei = F.softmax(wei, dim=-1)\n",
    "wei"
   ]
  },
  {
   "cell_type": "code",
   "execution_count": 47,
   "metadata": {},
   "outputs": [
    {
     "data": {
      "text/plain": [
       "'hello  world, how are you?'"
      ]
     },
     "execution_count": 47,
     "metadata": {},
     "output_type": "execute_result"
    }
   ],
   "source": [
    "def pre_tokenize(s: str) -> list[str]:\n",
    "    \"\"\"Pre-tokenize a string to be compatible with GPT2 tokenizer. It creates a list of tokens where each token starts with a space special char Ġ.\n",
    "\n",
    "    Arguments:\n",
    "        s -- string to tokeninze\n",
    "\n",
    "    Returns:\n",
    "        list of tokens\n",
    "    \"\"\"\n",
    "    raw_tokens = [t for t in re.split(r\"(\\s|,|\\.|;|:|!|\\?|\\t)\", s) if t]\n",
    "    tokens = []\n",
    "    prev_t = None\n",
    "    for t in raw_tokens:\n",
    "        if t == \" \":\n",
    "            t = \"Ġ\"\n",
    "        if prev_t == \"Ġ\" and t != \"Ġ\":\n",
    "            t = prev_t + t\n",
    "            tokens.pop()  # remove previous token because we merge it (blank) with current token\n",
    "        tokens.append(t)\n",
    "        prev_t = t\n",
    "\n",
    "    return tokens\n",
    "\n",
    "\n",
    "def pre_decode(tokens: list[str]) -> str:\n",
    "    return \"\".join([t.replace(\"Ġ\", \" \") for t in tokens])\n",
    "\n",
    "\n",
    "pre_decode(pre_tokenize(\"hello  world, how are you?\"))"
   ]
  },
  {
   "cell_type": "code",
   "execution_count": null,
   "metadata": {},
   "outputs": [],
   "source": [
    "class BPETokenizer:\n",
    "    \n",
    "    def __init__(self, vocab_size:int=200)\n",
    "        self.vocab_size = vocab_size\n",
    "        self.itov = {}\n",
    "        self.vtoi = {}\n",
    "        self.alphabet:list[str]=[]\n",
    "        \n",
    "    def fit(self, text:str):\n",
    "        chars = sorted(list(set(text)))\n",
    "        self.alphabet = [\"<|OOV|>\", \"<|EOT|>\"]+chars  \n",
    "\n",
    "    \n",
    "    "
   ]
  },
  {
   "cell_type": "code",
   "execution_count": 15,
   "metadata": {},
   "outputs": [],
   "source": [
    "# hyperparams\n",
    "batch_size = 16  # how many independent sequences will we process in parallel?\n",
    "block_size = 8  # what is the maximum context length for predictions?\n",
    "\n",
    "vocab_size = 65\n",
    "n_embd = 32\n",
    "num_heads = 4"
   ]
  },
  {
   "cell_type": "code",
   "execution_count": 16,
   "metadata": {},
   "outputs": [],
   "source": [
    "class Head(nn.Module):\n",
    "    def __init__(self, head_size: int, n_embd: int, block_size: int) -> None:\n",
    "        super().__init__()\n",
    "        self.key = nn.Linear(n_embd, head_size, bias=False)\n",
    "        self.query = nn.Linear(n_embd, head_size, bias=False)\n",
    "        self.value = nn.Linear(n_embd, head_size, bias=False)\n",
    "        self.smax = nn.Softmax(dim=-1)\n",
    "        self.register_buffer(\"tril\", tensor=torch.tril(torch.ones(block_size, block_size)))\n",
    "\n",
    "    def forward(self, x):\n",
    "        B, T, C = x.shape\n",
    "        k = self.key(x)\n",
    "        q = self.query(x)\n",
    "        wei = q @ k.transpose(-2, -1) * C**-0.5\n",
    "        wei = wei.masked_fill(self.tril[:T, :T] == 0, float(\"-inf\"))\n",
    "        wei = self.smax(wei)  # F.softmax(wei, dim=-1)\n",
    "        v = self.value(x)\n",
    "        out = wei @ v\n",
    "        return out\n",
    "\n",
    "\n",
    "class MultiHeadAttention(nn.Module):\n",
    "    def __init__(self, num_heads: int, head_size: int, block_size: int, n_embd: int) -> None:\n",
    "        super().__init__()\n",
    "        self.heads = nn.ModuleList([Head(head_size, block_size=block_size, n_embd=n_embd) for _ in range(num_heads)])\n",
    "        self.proj = nn.Linear(n_embd, n_embd)\n",
    "\n",
    "    def forward(self, x):\n",
    "        out = torch.cat([h(x) for h in self.heads], dim=-1)\n",
    "        out = self.proj(out)\n",
    "        return out\n",
    "\n",
    "\n",
    "class FeedForward(nn.Module):\n",
    "    def __init__(self, n_embd: int) -> None:\n",
    "        super().__init__()\n",
    "        self.net = nn.Sequential(nn.Linear(n_embd, 4 * n_embd), nn.ReLU(), nn.Linear(4 * n_embd, n_embd))\n",
    "\n",
    "    def forward(self, x):\n",
    "        return self.net(x)\n",
    "\n",
    "\n",
    "class Block(nn.Module):\n",
    "    def __init__(self, n_embd: int, num_heads: int, block_size: int):\n",
    "        super().__init__()\n",
    "        head_size = n_embd // num_heads\n",
    "        self.sa = MultiHeadAttention(num_heads=num_heads, head_size=head_size, block_size=block_size, n_embd=n_embd)\n",
    "        self.ffwd = FeedForward(n_embd)\n",
    "\n",
    "    def forward(self, x):\n",
    "        x = x + self.sa(x)\n",
    "        x = x + self.ffwd(x)\n",
    "        return x\n",
    "\n",
    "\n",
    "class BigramModel(nn.Module):\n",
    "    def __init__(self, vocab_size: int, num_heads: int = 4, n_embd: int = 32, block_size: int = 8) -> None:\n",
    "        super().__init__()\n",
    "        self.num_heads = num_heads\n",
    "        self.block_size = block_size\n",
    "        self.n_embd = n_embd\n",
    "        self.token_emb = torch.nn.Embedding(vocab_size, n_embd)\n",
    "        self.pos_emb = torch.nn.Embedding(block_size, n_embd)\n",
    "        self.blocks = nn.Sequential(\n",
    "            Block(n_embd, num_heads, block_size),\n",
    "            Block(n_embd, num_heads, block_size),\n",
    "            Block(n_embd, num_heads, block_size),\n",
    "            Block(n_embd, num_heads, block_size),\n",
    "        )\n",
    "        self.lm_head = torch.nn.Linear(n_embd, vocab_size)\n",
    "        # self.lm_head = Head(head_size=1)\n",
    "\n",
    "    def forward(self, idx, targets=None):\n",
    "        B, T = idx.shape\n",
    "        tok_emb = self.token_emb(idx)\n",
    "        pos_emb = self.pos_emb(torch.arange(T, device=device))\n",
    "        # print(\"pos_emb shape\", pos_emb.shape)\n",
    "        x = tok_emb + pos_emb  # B, T, C\n",
    "        # print(f\"x shape: {x.shape}\")\n",
    "        x = self.blocks(x)\n",
    "        logits = self.lm_head(x)\n",
    "\n",
    "        # print(f\"logits shape: {logits.shape}\")\n",
    "        if targets is None:\n",
    "            loss = None\n",
    "        else:\n",
    "            B, T, C = logits.shape\n",
    "            logits = logits.view(B * T, C)\n",
    "            targets = targets.view(B * T)\n",
    "            loss = F.cross_entropy(logits, targets)\n",
    "\n",
    "        return logits, loss\n",
    "\n",
    "    def generate(self, idx, max_new_tokens):\n",
    "        for _ in range(max_new_tokens):\n",
    "            idx_cond = idx[:, -self.block_size :]\n",
    "            logits, _ = self(idx_cond)\n",
    "            # print(\"generate logit shape\", logits.shape)\n",
    "\n",
    "            logits = logits[:, -1, :]\n",
    "\n",
    "            probs = F.softmax(logits, dim=-1)\n",
    "            idx_next = torch.multinomial(probs, num_samples=1)\n",
    "            idx = torch.cat((idx, idx_next), dim=1)\n",
    "\n",
    "        return idx\n",
    "\n",
    "\n",
    "model = BigramModel(vocab_size, num_heads=num_heads, n_embd=n_embd, block_size=block_size)\n",
    "model = model.to(device)\n",
    "xb, yb = get_batch(\"train\")\n",
    "train_logit, train_loss = model(xb)"
   ]
  },
  {
   "cell_type": "code",
   "execution_count": 17,
   "metadata": {},
   "outputs": [
    {
     "name": "stdout",
     "output_type": "stream",
     "text": [
      "step 0: train loss 4.7607, val loss 4.7535\n",
      "step 500: train loss 2.4672, val loss 2.4884\n",
      "step 1000: train loss 2.3331, val loss 2.3338\n",
      "step 1500: train loss 2.2356, val loss 2.2469\n",
      "step 2000: train loss 2.2100, val loss 2.2634\n",
      "step 2500: train loss 2.1477, val loss 2.2093\n",
      "step 3000: train loss 2.1221, val loss 2.1764\n",
      "step 3500: train loss 2.1036, val loss 2.1588\n",
      "step 4000: train loss 2.0798, val loss 2.1432\n",
      "step 4500: train loss 2.0451, val loss 2.1230\n",
      "step 5000: train loss 2.0197, val loss 2.1211\n"
     ]
    }
   ],
   "source": [
    "@torch.no_grad()\n",
    "def estimate_loss():\n",
    "    out = {}\n",
    "    model.eval()\n",
    "    for split in [\"train\", \"val\"]:\n",
    "        losses = torch.zeros(eval_iters)\n",
    "        for k in range(eval_iters):\n",
    "            X, Y = get_batch(split)\n",
    "            logits, loss = model(X, Y)\n",
    "            losses[k] = loss.item()\n",
    "        out[split] = losses.mean()\n",
    "    model.train()\n",
    "    return out\n",
    "\n",
    "\n",
    "max_iters = 5001\n",
    "eval_iters = 200\n",
    "eval_interval = 500\n",
    "learning_rate = 1e-3\n",
    "\n",
    "\n",
    "# create a PyTorch optimizer\n",
    "optimizer = torch.optim.AdamW(model.parameters(), lr=learning_rate)\n",
    "\n",
    "model_id = \"cop_gpt\"\n",
    "model_version = \"0.1\"\n",
    "log_dir = Path(\"../runs\") / f\"{model_id}-{model_version}\" / f\"{datetime.now().strftime('%Y-%m-%d-%H-%M-%S')}\"\n",
    "\n",
    "writer = SummaryWriter(log_dir=log_dir)\n",
    "\n",
    "for i in range(max_iters):\n",
    "    # every once in a while evaluate the loss on train and val sets\n",
    "    if i % eval_interval == 0:\n",
    "        losses = estimate_loss()\n",
    "        print(f\"step {i}: train loss {losses['train']:.4f}, val loss {losses['val']:.4f}\")\n",
    "        writer.add_scalar(\"loss/train\", losses[\"train\"], i)\n",
    "        writer.add_scalar(\"loss/val\", losses[\"val\"], i)\n",
    "\n",
    "    # sample a batch of data\n",
    "    xb, yb = get_batch(\"train\")\n",
    "\n",
    "    # evaluate the loss\n",
    "    logits, loss = model(xb, yb)\n",
    "    optimizer.zero_grad(set_to_none=True)\n",
    "    loss.backward()\n",
    "    for name, weight in model.named_parameters():\n",
    "        writer.add_histogram(name, weight, i)\n",
    "\n",
    "    optimizer.step()"
   ]
  },
  {
   "cell_type": "code",
   "execution_count": 19,
   "metadata": {},
   "outputs": [
    {
     "name": "stdout",
     "output_type": "stream",
     "text": [
      "\n",
      "Shald my sive thy;\n",
      "I ham scerawe,\n",
      "Derst. Your hall yem ance pine lives shall to dids we and\n",
      "so tays sourls,\n",
      "No.\n",
      "\n",
      "NIRESAM By tids,\n",
      "Am grock confids it thears\n",
      "An me knothg and to\n",
      "That dead by be dam, er\n"
     ]
    }
   ],
   "source": [
    "context = torch.zeros((1, 1), dtype=torch.long, device=device)\n",
    "print(decode(model.generate(context, max_new_tokens=200)[0].tolist()))"
   ]
  },
  {
   "cell_type": "code",
   "execution_count": 20,
   "metadata": {},
   "outputs": [],
   "source": [
    "embeddings = model.state_dict()[\"token_emb.weight\"]\n",
    "metadata = [itos[i] for i in range(vocab_size)]\n",
    "\n",
    "\n",
    "# Add embeddings to the writer\n",
    "writer.add_embedding(embeddings, metadata=metadata)\n",
    "\n",
    "# Close the writer\n",
    "writer.close()"
   ]
  },
  {
   "cell_type": "markdown",
   "metadata": {},
   "source": [
    "## Understand model behaviour\n",
    "\n",
    "Capture the activation at various moment within the model"
   ]
  },
  {
   "cell_type": "code",
   "execution_count": 20,
   "metadata": {},
   "outputs": [
    {
     "data": {
      "text/plain": [
       "Sequential(\n",
       "  (0): Block(\n",
       "    (sa): MultiHeadAttention(\n",
       "      (heads): ModuleList(\n",
       "        (0-3): 4 x Head(\n",
       "          (key): Linear(in_features=32, out_features=8, bias=False)\n",
       "          (query): Linear(in_features=32, out_features=8, bias=False)\n",
       "          (value): Linear(in_features=32, out_features=8, bias=False)\n",
       "          (smax): Softmax(dim=-1)\n",
       "        )\n",
       "      )\n",
       "      (proj): Linear(in_features=32, out_features=32, bias=True)\n",
       "    )\n",
       "    (ffwd): FeedForward(\n",
       "      (net): Sequential(\n",
       "        (0): Linear(in_features=32, out_features=128, bias=True)\n",
       "        (1): ReLU()\n",
       "        (2): Linear(in_features=128, out_features=32, bias=True)\n",
       "      )\n",
       "    )\n",
       "  )\n",
       "  (1): Block(\n",
       "    (sa): MultiHeadAttention(\n",
       "      (heads): ModuleList(\n",
       "        (0-3): 4 x Head(\n",
       "          (key): Linear(in_features=32, out_features=8, bias=False)\n",
       "          (query): Linear(in_features=32, out_features=8, bias=False)\n",
       "          (value): Linear(in_features=32, out_features=8, bias=False)\n",
       "          (smax): Softmax(dim=-1)\n",
       "        )\n",
       "      )\n",
       "      (proj): Linear(in_features=32, out_features=32, bias=True)\n",
       "    )\n",
       "    (ffwd): FeedForward(\n",
       "      (net): Sequential(\n",
       "        (0): Linear(in_features=32, out_features=128, bias=True)\n",
       "        (1): ReLU()\n",
       "        (2): Linear(in_features=128, out_features=32, bias=True)\n",
       "      )\n",
       "    )\n",
       "  )\n",
       "  (2): Block(\n",
       "    (sa): MultiHeadAttention(\n",
       "      (heads): ModuleList(\n",
       "        (0-3): 4 x Head(\n",
       "          (key): Linear(in_features=32, out_features=8, bias=False)\n",
       "          (query): Linear(in_features=32, out_features=8, bias=False)\n",
       "          (value): Linear(in_features=32, out_features=8, bias=False)\n",
       "          (smax): Softmax(dim=-1)\n",
       "        )\n",
       "      )\n",
       "      (proj): Linear(in_features=32, out_features=32, bias=True)\n",
       "    )\n",
       "    (ffwd): FeedForward(\n",
       "      (net): Sequential(\n",
       "        (0): Linear(in_features=32, out_features=128, bias=True)\n",
       "        (1): ReLU()\n",
       "        (2): Linear(in_features=128, out_features=32, bias=True)\n",
       "      )\n",
       "    )\n",
       "  )\n",
       "  (3): Block(\n",
       "    (sa): MultiHeadAttention(\n",
       "      (heads): ModuleList(\n",
       "        (0-3): 4 x Head(\n",
       "          (key): Linear(in_features=32, out_features=8, bias=False)\n",
       "          (query): Linear(in_features=32, out_features=8, bias=False)\n",
       "          (value): Linear(in_features=32, out_features=8, bias=False)\n",
       "          (smax): Softmax(dim=-1)\n",
       "        )\n",
       "      )\n",
       "      (proj): Linear(in_features=32, out_features=32, bias=True)\n",
       "    )\n",
       "    (ffwd): FeedForward(\n",
       "      (net): Sequential(\n",
       "        (0): Linear(in_features=32, out_features=128, bias=True)\n",
       "        (1): ReLU()\n",
       "        (2): Linear(in_features=128, out_features=32, bias=True)\n",
       "      )\n",
       "    )\n",
       "  )\n",
       ")"
      ]
     },
     "execution_count": 20,
     "metadata": {},
     "output_type": "execute_result"
    }
   ],
   "source": [
    "model.blocks"
   ]
  },
  {
   "cell_type": "code",
   "execution_count": 21,
   "metadata": {},
   "outputs": [
    {
     "data": {
      "text/plain": [
       "<torch.utils.hooks.RemovableHandle at 0x10c96fad0>"
      ]
     },
     "execution_count": 21,
     "metadata": {},
     "output_type": "execute_result"
    }
   ],
   "source": [
    "activation = {}\n",
    "\n",
    "\n",
    "def get_activation(name):\n",
    "    def hook(model, input, output):\n",
    "        activation[name] = output.detach()\n",
    "\n",
    "    return hook\n",
    "\n",
    "\n",
    "# register a hook to access activations of each head.\n",
    "for b, block in enumerate(model.blocks):\n",
    "    for i, h in enumerate(block.sa.heads):\n",
    "        h.register_forward_hook(get_activation(f\"block_{b}_head_{i}\"))\n",
    "        h.smax.register_forward_hook(get_activation(f\"block_{b}_smax_{i}\"))\n",
    "\n",
    "model.lm_head.register_forward_hook(get_activation(\"lm_head\"))"
   ]
  },
  {
   "cell_type": "code",
   "execution_count": 27,
   "metadata": {},
   "outputs": [
    {
     "data": {
      "text/plain": [
       "['\\n', 'C', 'a', 'i', 'n', 'd', ' ', 't', 'h']"
      ]
     },
     "execution_count": 27,
     "metadata": {},
     "output_type": "execute_result"
    }
   ],
   "source": [
    "gen_toks = model.generate(context, max_new_tokens=8)\n",
    "chars = [c for c in decode(gen_toks[0].tolist())]\n",
    "chars"
   ]
  },
  {
   "cell_type": "code",
   "execution_count": null,
   "metadata": {},
   "outputs": [],
   "source": []
  },
  {
   "cell_type": "code",
   "execution_count": 30,
   "metadata": {},
   "outputs": [
    {
     "data": {
      "image/png": "[encoded data removed]",
      "text/plain": [
       "<Figure size 500x500 with 5 Axes>"
      ]
     },
     "metadata": {},
     "output_type": "display_data"
    }
   ],
   "source": [
    "num_rows = num_heads // 2\n",
    "num_cols = num_heads // 2\n",
    "fig, axes = plt.subplots(num_rows, num_cols, figsize=(5, 5))\n",
    "axes = axes.flatten()\n",
    "\n",
    "\n",
    "for i, ax in enumerate(axes):\n",
    "    im = ax.imshow(activation[f\"block_0_smax_{i}\"][0].cpu().numpy(), cmap=\"hot\", interpolation=\"nearest\")\n",
    "    ax.set_title(f\"head {i}\")\n",
    "    ax.set_xticks(np.arange(len(chars)), labels=chars)\n",
    "    ax.set_yticks(np.arange(len(chars)), labels=chars)\n",
    "\n",
    "cbar = fig.colorbar(im, ax=axes, orientation=\"vertical\", fraction=0.1, pad=0.05)\n",
    "\n",
    "\n",
    "# fig.colorbar(im, ax=ax)\n",
    "# fig.tight_layout()"
   ]
  },
  {
   "cell_type": "code",
   "execution_count": 24,
   "metadata": {},
   "outputs": [
    {
     "name": "stdout",
     "output_type": "stream",
     "text": [
      "0.key.weight torch.Size([8, 32])\n",
      "0.query.weight torch.Size([8, 32])\n",
      "0.value.weight torch.Size([8, 32])\n",
      "1.key.weight torch.Size([8, 32])\n",
      "1.query.weight torch.Size([8, 32])\n",
      "1.value.weight torch.Size([8, 32])\n",
      "2.key.weight torch.Size([8, 32])\n",
      "2.query.weight torch.Size([8, 32])\n",
      "2.value.weight torch.Size([8, 32])\n",
      "3.key.weight torch.Size([8, 32])\n",
      "3.query.weight torch.Size([8, 32])\n",
      "3.value.weight torch.Size([8, 32])\n"
     ]
    }
   ],
   "source": [
    "# plot histogramt (torch.histogram) for each output  distribution for each layer. Also plot gradient to check its normally distributed.\n",
    "for l in model.blocks[0].sa.heads.named_parameters():\n",
    "    print(l[0], l[1].shape)"
   ]
  },
  {
   "cell_type": "code",
   "execution_count": null,
   "metadata": {},
   "outputs": [],
   "source": []
  },
  {
   "cell_type": "code",
   "execution_count": 25,
   "metadata": {},
   "outputs": [
    {
     "data": {
      "image/png": "[encoded data removed]",
      "text/plain": [
       "<Figure size 640x480 with 1 Axes>"
      ]
     },
     "metadata": {},
     "output_type": "display_data"
    },
    {
     "data": {
      "image/png": "[encoded data removed]",
      "text/plain": [
       "<Figure size 640x480 with 1 Axes>"
      ]
     },
     "metadata": {},
     "output_type": "display_data"
    }
   ],
   "source": [
    "def display_params(model, layer_name):\n",
    "    npp = model.state_dict()[layer_name].cpu().detach().numpy()\n",
    "\n",
    "    plt.imshow(npp, cmap=\"hot\", interpolation=\"nearest\")\n",
    "    plt.title(layer_name)\n",
    "    plt.show()\n",
    "\n",
    "\n",
    "display_params(model, \"token_emb.weight\")\n",
    "display_params(model, \"pos_emb.weight\")"
   ]
  },
  {
   "cell_type": "code",
   "execution_count": null,
   "metadata": {},
   "outputs": [],
   "source": []
  },
  {
   "cell_type": "markdown",
   "metadata": {},
   "source": [
    "### view layer values"
   ]
  },
  {
   "cell_type": "code",
   "execution_count": 26,
   "metadata": {},
   "outputs": [
    {
     "ename": "SyntaxError",
     "evalue": "invalid syntax (1072698059.py, line 1)",
     "output_type": "error",
     "traceback": [
      "\u001b[0;36m  Cell \u001b[0;32mIn[26], line 1\u001b[0;36m\u001b[0m\n\u001b[0;31m    Add mechanism to view attention on each token\u001b[0m\n\u001b[0m        ^\u001b[0m\n\u001b[0;31mSyntaxError\u001b[0m\u001b[0;31m:\u001b[0m invalid syntax\n"
     ]
    }
   ],
   "source": [
    "Add mechanism to view attention on each token\n",
    "https://www.comet.com/site/blog/explainable-ai-for-transformers/"
   ]
  },
  {
   "cell_type": "code",
   "execution_count": null,
   "metadata": {},
   "outputs": [],
   "source": []
  }
 ],
 "metadata": {
  "kernelspec": {
   "display_name": "python3",
   "language": "python",
   "name": "python3"
  },
  "language_info": {
   "codemirror_mode": {
    "name": "ipython",
    "version": 3
   },
   "file_extension": ".py",
   "mimetype": "text/x-python",
   "name": "python",
   "nbconvert_exporter": "python",
   "pygments_lexer": "ipython3",
   "version": "3.11.6"
  }
 },
 "nbformat": 4,
 "nbformat_minor": 2
}
