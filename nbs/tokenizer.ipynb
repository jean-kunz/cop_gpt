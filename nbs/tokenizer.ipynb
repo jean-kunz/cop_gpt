{
 "cells": [
  {
   "cell_type": "code",
   "execution_count": null,
   "metadata": {},
   "outputs": [],
   "source": [
    "text = \"hello louis hey 🤐!!!!\"\n",
    "text = \"🤐\"\n",
    "tokens = text.encode(\"utf-8\")\n",
    "tokens\n",
    "int(tokens[0])\n",
    "# len(list(map(int, tokens))), len(text)\n",
    "print([int(x) for x in tokens])"
   ]
  },
  {
   "cell_type": "code",
   "execution_count": null,
   "metadata": {},
   "outputs": [],
   "source": [
    "ids = [1, 2, 3, 4, 3, 4, 7, 8, 9, 10, 8, 9]\n",
    "list(iter(zip(ids, ids[1:])))"
   ]
  },
  {
   "cell_type": "code",
   "execution_count": null,
   "metadata": {},
   "outputs": [],
   "source": [
    "def get_stats(ids):\n",
    "    counts = {}\n",
    "    for pair in zip(ids, ids[1:]):\n",
    "        counts[pair] = counts.get(pair, 0) + 1\n",
    "    return counts\n",
    "\n",
    "\n",
    "ids = [1, 2, 3, 4, 3, 4, 7, 8, 9, 10, 8, 9]\n",
    "stats = get_stats(tokens)\n",
    "# sorted(((v, k) for k, v in counts.items()), reverse=True)\n",
    "stats"
   ]
  },
  {
   "cell_type": "code",
   "execution_count": null,
   "metadata": {},
   "outputs": [],
   "source": [
    "top_pair = max(stats, key=stats.get)\n",
    "top_pair"
   ]
  },
  {
   "cell_type": "code",
   "execution_count": null,
   "metadata": {},
   "outputs": [],
   "source": [
    "def merge(ids, pair, new_idx):\n",
    "    new_ids = []\n",
    "    i = 0\n",
    "    while i < len(ids):\n",
    "        if i < len(ids) - 1 and ids[i] == pair[0] and ids[i + 1] == pair[1]:\n",
    "            new_ids.append(new_idx)\n",
    "            i += 2\n",
    "        else:\n",
    "            new_ids.append(ids[i])\n",
    "            i += 1\n",
    "\n",
    "    return new_ids\n",
    "\n",
    "\n",
    "merge([1, 2, 5, 6, 7, 5, 6], (5, 6), 99)\n",
    "\n",
    "merge(tokens, top_pair, 256)"
   ]
  },
  {
   "cell_type": "code",
   "execution_count": null,
   "metadata": {},
   "outputs": [],
   "source": [
    "vocab_size = 276\n",
    "num_merges = vocab_size - 256\n",
    "ids = list(tokens)\n",
    "merges = {}\n",
    "\n",
    "for i in range(num_merges):\n",
    "    stats = get_stats(ids)\n",
    "    top_pair = max(stats, key=stats.get)\n",
    "    idx = 256 + i\n",
    "    # print(f\"merging {top_pair} to {idx}\")\n",
    "    ids = merge(ids, top_pair, idx)\n",
    "    # print(\"-\"*5)\n",
    "    # print(ids)\n",
    "    merges[top_pair] = idx\n",
    "    # print(\"-------\")\n",
    "    # print(merges)"
   ]
  },
  {
   "cell_type": "code",
   "execution_count": null,
   "metadata": {},
   "outputs": [],
   "source": [
    "merges\n",
    "vocab = {idx: bytes([idx]) for idx in range(256)}\n",
    "vocab\n",
    "bytes([16])\n",
    "bytes([65, 66, 67])\n",
    "bytes([240, 159, 164, 144])"
   ]
  },
  {
   "cell_type": "code",
   "execution_count": null,
   "metadata": {},
   "outputs": [],
   "source": []
  }
 ],
 "metadata": {
  "kernelspec": {
   "display_name": "base",
   "language": "python",
   "name": "python3"
  },
  "language_info": {
   "codemirror_mode": {
    "name": "ipython",
    "version": 3
   },
   "file_extension": ".py",
   "mimetype": "text/x-python",
   "name": "python",
   "nbconvert_exporter": "python",
   "pygments_lexer": "ipython3",
   "version": "3.11.7"
  }
 },
 "nbformat": 4,
 "nbformat_minor": 2
}
