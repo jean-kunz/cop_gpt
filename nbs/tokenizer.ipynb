{
 "cells": [
  {
   "cell_type": "code",
   "execution_count": null,
   "metadata": {},
   "outputs": [],
   "source": [
    "from icecream import ic\n",
    "from pprint import pprint"
   ]
  },
  {
   "cell_type": "code",
   "execution_count": null,
   "metadata": {},
   "outputs": [],
   "source": [
    "text = \"hello louis hey 🤐!!!! how is the world ?\"\n",
    "# text = \"🤐\"\n",
    "# text = \"hello world!\"\n",
    "# text = \"é\"\n",
    "tokens = text.encode(\"utf-8\")\n",
    "tokens\n",
    "int(tokens[0])\n",
    "# len(list(map(int, tokens))), len(text)\n",
    "print([int(x) for x in tokens])"
   ]
  },
  {
   "cell_type": "code",
   "execution_count": null,
   "metadata": {},
   "outputs": [],
   "source": [
    "def get_stats(ids):\n",
    "    counts = {}\n",
    "    for pair in zip(ids, ids[1:]):\n",
    "        counts[pair] = counts.get(pair, 0) + 1\n",
    "    return counts\n",
    "\n",
    "\n",
    "ids = [1, 2, 3, 4, 3, 4, 7, 8, 9, 10, 8, 9]\n",
    "stats = get_stats(tokens)\n",
    "# sorted(((v, k) for k, v in counts.items()), reverse=True)\n",
    "stats"
   ]
  },
  {
   "cell_type": "code",
   "execution_count": null,
   "metadata": {},
   "outputs": [],
   "source": [
    "top_pair = max(stats, key=stats.get)\n",
    "top_pair"
   ]
  },
  {
   "cell_type": "code",
   "execution_count": null,
   "metadata": {},
   "outputs": [],
   "source": [
    "def merge(ids, pair, new_idx):\n",
    "    new_ids = []\n",
    "    i = 0\n",
    "    while i < len(ids):\n",
    "        if i < len(ids) - 1 and ids[i] == pair[0] and ids[i + 1] == pair[1]:\n",
    "            new_ids.append(new_idx)\n",
    "            i += 2\n",
    "        else:\n",
    "            new_ids.append(ids[i])\n",
    "            i += 1\n",
    "\n",
    "    return new_ids\n",
    "\n",
    "\n",
    "merge([1, 2, 5, 6, 7, 5, 6], (5, 6), 99)\n",
    "\n",
    "merge(tokens, top_pair, 256)"
   ]
  },
  {
   "cell_type": "code",
   "execution_count": null,
   "metadata": {},
   "outputs": [],
   "source": [
    "vocab_size = 276\n",
    "num_merges = vocab_size - 256\n",
    "ids = list(tokens)\n",
    "merges = {}\n",
    "\n",
    "for i in range(num_merges):\n",
    "    stats = get_stats(ids)\n",
    "    if len(stats) > 0:\n",
    "        top_pair = max(stats, key=stats.get)\n",
    "        idx = 256 + i\n",
    "        ids = merge(ids, top_pair, idx)\n",
    "        merges[top_pair] = idx\n",
    "    else:\n",
    "        break\n",
    "merges"
   ]
  },
  {
   "cell_type": "code",
   "execution_count": null,
   "metadata": {},
   "outputs": [],
   "source": [
    "vocab = {idx: bytes([idx]) for idx in range(256)}\n",
    "for (p0, p1), idx in merges.items():\n",
    "    # ic(p0, p1)\n",
    "    vocab[idx] = vocab[p0] + vocab[p1]\n",
    "\n",
    "\n",
    "def decode(ids: list) -> str:\n",
    "    tokens = b\"\".join(vocab[idx] for idx in ids)\n",
    "    txt = tokens.decode(\"utf-8\", errors=\"replace\")\n",
    "    return txt"
   ]
  },
  {
   "cell_type": "code",
   "execution_count": null,
   "metadata": {},
   "outputs": [],
   "source": [
    "merges"
   ]
  },
  {
   "cell_type": "code",
   "execution_count": null,
   "metadata": {},
   "outputs": [],
   "source": [
    "tokens = list(\"world!!\".encode(\"utf-8\"))\n",
    "stats = get_stats(tokens)\n",
    "ic(stats)\n",
    "min(stats, key=lambda p: merges.get(p, float(\"inf\")))"
   ]
  },
  {
   "cell_type": "code",
   "execution_count": null,
   "metadata": {},
   "outputs": [],
   "source": [
    "def encode(text):\n",
    "    tokens = list(text.encode(\"utf-8\"))\n",
    "    ic(tokens)\n",
    "    while True:\n",
    "        stats = get_stats(tokens)\n",
    "        ic(stats)\n",
    "        pair = min(stats, key=lambda p: merges.get(p, float(\"inf\")))\n",
    "        ic(pair)\n",
    "        break\n",
    "\n",
    "\n",
    "encode(\"Hello\")"
   ]
  },
  {
   "cell_type": "code",
   "execution_count": null,
   "metadata": {},
   "outputs": [],
   "source": [
    "tokens = list(\"hello world hey!!\".encode(\"utf-8\"))\n",
    "stats = get_stats(tokens)\n",
    "min(stats, key=lambda p: merges.get(p, float(\"inf\")))"
   ]
  },
  {
   "cell_type": "code",
   "execution_count": null,
   "metadata": {},
   "outputs": [],
   "source": [
    "stats\n",
    "merges"
   ]
  },
  {
   "cell_type": "code",
   "execution_count": null,
   "metadata": {},
   "outputs": [],
   "source": []
  }
 ],
 "metadata": {
  "kernelspec": {
   "display_name": "base",
   "language": "python",
   "name": "python3"
  },
  "language_info": {
   "codemirror_mode": {
    "name": "ipython",
    "version": 3
   },
   "file_extension": ".py",
   "mimetype": "text/x-python",
   "name": "python",
   "nbconvert_exporter": "python",
   "pygments_lexer": "ipython3",
   "version": "3.11.8"
  }
 },
 "nbformat": 4,
 "nbformat_minor": 2
}
