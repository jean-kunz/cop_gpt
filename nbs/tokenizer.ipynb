{
 "cells": [
  {
   "cell_type": "code",
   "execution_count": 1,
   "metadata": {},
   "outputs": [],
   "source": [
    "from icecream import ic\n",
    "from pprint import pprint\n",
    "import regex as re"
   ]
  },
  {
   "cell_type": "code",
   "execution_count": 6,
   "metadata": {},
   "outputs": [
    {
     "name": "stderr",
     "output_type": "stream",
     "text": [
      "ic| int(tokens[0]): 104\n"
     ]
    },
    {
     "name": "stdout",
     "output_type": "stream",
     "text": [
      "[104, 101, 108, 108, 111, 32, 108, 111, 117, 105, 115, 32, 104, 101, 121, 32, 240, 159, 164, 144, 33, 33, 33, 33, 32, 104, 111, 119, 32, 105, 115, 32, 116, 104, 101, 32, 119, 111, 114, 108, 100, 32, 63]\n"
     ]
    }
   ],
   "source": [
    "text = \"hello louis hey 🤐!!!! how is the world ?\"\n",
    "# text = \"🤐\"\n",
    "# text = \"hello world!\"\n",
    "# text = \"é\"\n",
    "tokens = text.encode(\"utf-8\")\n",
    "tokens\n",
    "ic(int(tokens[0]))\n",
    "# len(list(map(int, tokens))), len(text)\n",
    "print([int(x) for x in tokens]);"
   ]
  },
  {
   "cell_type": "code",
   "execution_count": 3,
   "metadata": {},
   "outputs": [
    {
     "data": {
      "text/plain": [
       "{(104, 101): 3,\n",
       " (101, 108): 1,\n",
       " (108, 108): 1,\n",
       " (108, 111): 2,\n",
       " (111, 32): 1,\n",
       " (32, 108): 1,\n",
       " (111, 117): 1,\n",
       " (117, 105): 1,\n",
       " (105, 115): 2,\n",
       " (115, 32): 2,\n",
       " (32, 104): 2,\n",
       " (101, 121): 1,\n",
       " (121, 32): 1,\n",
       " (32, 240): 1,\n",
       " (240, 159): 1,\n",
       " (159, 164): 1,\n",
       " (164, 144): 1,\n",
       " (144, 33): 1,\n",
       " (33, 33): 3,\n",
       " (33, 32): 1,\n",
       " (104, 111): 1,\n",
       " (111, 119): 1,\n",
       " (119, 32): 1,\n",
       " (32, 105): 1,\n",
       " (32, 116): 1,\n",
       " (116, 104): 1,\n",
       " (101, 32): 1,\n",
       " (32, 119): 1,\n",
       " (119, 111): 1,\n",
       " (111, 114): 1,\n",
       " (114, 108): 1,\n",
       " (108, 100): 1,\n",
       " (100, 32): 1,\n",
       " (32, 63): 1}"
      ]
     },
     "execution_count": 3,
     "metadata": {},
     "output_type": "execute_result"
    }
   ],
   "source": [
    "def get_stats(ids):\n",
    "    counts = {}\n",
    "    for pair in zip(ids, ids[1:]):\n",
    "        counts[pair] = counts.get(pair, 0) + 1\n",
    "    return counts\n",
    "\n",
    "\n",
    "stats = get_stats(tokens)\n",
    "# sorted(((v, k) for k, v in counts.items()), reverse=True)\n",
    "stats"
   ]
  },
  {
   "cell_type": "code",
   "execution_count": 4,
   "metadata": {},
   "outputs": [
    {
     "data": {
      "text/plain": [
       "(104, 101)"
      ]
     },
     "execution_count": 4,
     "metadata": {},
     "output_type": "execute_result"
    }
   ],
   "source": [
    "top_pair = max(stats, key=stats.get)\n",
    "top_pair"
   ]
  },
  {
   "cell_type": "code",
   "execution_count": 5,
   "metadata": {},
   "outputs": [
    {
     "data": {
      "text/plain": [
       "[256,\n",
       " 108,\n",
       " 108,\n",
       " 111,\n",
       " 32,\n",
       " 108,\n",
       " 111,\n",
       " 117,\n",
       " 105,\n",
       " 115,\n",
       " 32,\n",
       " 256,\n",
       " 121,\n",
       " 32,\n",
       " 240,\n",
       " 159,\n",
       " 164,\n",
       " 144,\n",
       " 33,\n",
       " 33,\n",
       " 33,\n",
       " 33,\n",
       " 32,\n",
       " 104,\n",
       " 111,\n",
       " 119,\n",
       " 32,\n",
       " 105,\n",
       " 115,\n",
       " 32,\n",
       " 116,\n",
       " 256,\n",
       " 32,\n",
       " 119,\n",
       " 111,\n",
       " 114,\n",
       " 108,\n",
       " 100,\n",
       " 32,\n",
       " 63]"
      ]
     },
     "execution_count": 5,
     "metadata": {},
     "output_type": "execute_result"
    }
   ],
   "source": [
    "def merge(ids, pair, new_idx):\n",
    "    new_ids = []\n",
    "    i = 0\n",
    "    while i < len(ids):\n",
    "        if i < len(ids) - 1 and ids[i] == pair[0] and ids[i + 1] == pair[1]:\n",
    "            new_ids.append(new_idx)\n",
    "            i += 2\n",
    "        else:\n",
    "            new_ids.append(ids[i])\n",
    "            i += 1\n",
    "\n",
    "    return new_ids\n",
    "\n",
    "\n",
    "merge([1, 2, 5, 6, 7, 5, 6], (5, 6), 99)\n",
    "\n",
    "merge(tokens, top_pair, 256)"
   ]
  },
  {
   "cell_type": "code",
   "execution_count": 6,
   "metadata": {},
   "outputs": [
    {
     "data": {
      "text/plain": [
       "{(104, 101): 256,\n",
       " (33, 33): 257,\n",
       " (108, 111): 258,\n",
       " (105, 115): 259,\n",
       " (259, 32): 260,\n",
       " (256, 108): 261,\n",
       " (261, 258): 262,\n",
       " (262, 32): 263,\n",
       " (263, 258): 264,\n",
       " (264, 117): 265,\n",
       " (265, 260): 266,\n",
       " (266, 256): 267,\n",
       " (267, 121): 268,\n",
       " (268, 32): 269,\n",
       " (269, 240): 270,\n",
       " (270, 159): 271,\n",
       " (271, 164): 272,\n",
       " (272, 144): 273,\n",
       " (273, 257): 274,\n",
       " (274, 257): 275}"
      ]
     },
     "execution_count": 6,
     "metadata": {},
     "output_type": "execute_result"
    }
   ],
   "source": [
    "vocab_size = 276\n",
    "num_merges = vocab_size - 256\n",
    "ids = list(tokens)\n",
    "merges = {}\n",
    "\n",
    "for i in range(num_merges):\n",
    "    stats = get_stats(ids)\n",
    "    if len(stats) > 0:\n",
    "        top_pair = max(stats, key=stats.get)\n",
    "        idx = 256 + i\n",
    "        ids = merge(ids, top_pair, idx)\n",
    "        merges[top_pair] = idx\n",
    "    else:\n",
    "        break\n",
    "merges"
   ]
  },
  {
   "cell_type": "code",
   "execution_count": 7,
   "metadata": {},
   "outputs": [],
   "source": [
    "vocab = {idx: bytes([idx]) for idx in range(256)}\n",
    "for (p0, p1), idx in merges.items():\n",
    "    # ic(p0, p1)\n",
    "    vocab[idx] = vocab[p0] + vocab[p1]\n",
    "\n",
    "\n",
    "def decode(ids: list) -> str:\n",
    "    tokens = b\"\".join(vocab[idx] for idx in ids)\n",
    "    txt = tokens.decode(\"utf-8\", errors=\"replace\")\n",
    "    return txt"
   ]
  },
  {
   "cell_type": "code",
   "execution_count": 8,
   "metadata": {},
   "outputs": [
    {
     "data": {
      "text/plain": [
       "'Hello lo !! you you'"
      ]
     },
     "execution_count": 8,
     "metadata": {},
     "output_type": "execute_result"
    }
   ],
   "source": [
    "def encode(text):\n",
    "    tokens = list(text.encode(\"utf-8\"))\n",
    "    # ic(tokens)\n",
    "    while len(tokens) > 1:\n",
    "        stats = get_stats(tokens)\n",
    "        # ic(stats)\n",
    "        pair = min(stats, key=lambda p: merges.get(p, float(\"inf\")))\n",
    "        # ic(merges)\n",
    "        # ic(pair)\n",
    "        if pair not in merges:\n",
    "            break\n",
    "        idx = merges[pair]\n",
    "        # ic(idx)\n",
    "        tokens = merge(tokens, pair, idx)\n",
    "        # ic(tokens)\n",
    "    return tokens\n",
    "\n",
    "\n",
    "decode(encode(\"Hello lo !! you you\"))\n",
    "#encode(\"h\")"
   ]
  },
  {
   "cell_type": "markdown",
   "metadata": {},
   "source": [
    "## Pre-tokenizer"
   ]
  },
  {
   "cell_type": "code",
   "execution_count": 9,
   "metadata": {},
   "outputs": [
    {
     "data": {
      "text/plain": [
       "['hello', ' World', '!,', ' You', \"'re\"]"
      ]
     },
     "execution_count": 9,
     "metadata": {},
     "output_type": "execute_result"
    }
   ],
   "source": [
    "pat = re.compile(\n",
    "    r\"\"\"'s|'t|'re|'ve|'m|'ll|'d| ?\\p{L}+| ?\\p{N}+| ?[^\\s\\p{L}\\p{N}]+|\\s+(?!\\S)|\\s+\"\"\"\n",
    ")\n",
    "pat.findall(\"hello World!, You're\")"
   ]
  },
  {
   "cell_type": "code",
   "execution_count": null,
   "metadata": {},
   "outputs": [],
   "source": []
  },
  {
   "cell_type": "code",
   "execution_count": null,
   "metadata": {},
   "outputs": [],
   "source": []
  }
 ],
 "metadata": {
  "kernelspec": {
   "display_name": "cop-gpt-XeiTM7fR-py3.12",
   "language": "python",
   "name": "python3"
  },
  "language_info": {
   "codemirror_mode": {
    "name": "ipython",
    "version": 3
   },
   "file_extension": ".py",
   "mimetype": "text/x-python",
   "name": "python",
   "nbconvert_exporter": "python",
   "pygments_lexer": "ipython3",
   "version": "3.12.8"
  }
 },
 "nbformat": 4,
 "nbformat_minor": 2
}
