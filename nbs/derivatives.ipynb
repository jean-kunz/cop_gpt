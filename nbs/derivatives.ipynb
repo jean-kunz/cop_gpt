{
 "cells": [
  {
   "cell_type": "code",
   "execution_count": null,
   "metadata": {},
   "outputs": [],
   "source": [
    "import torch\n",
    "import torch.nn.functional as F\n",
    "import torch.nn as nn"
   ]
  },
  {
   "cell_type": "code",
   "execution_count": null,
   "metadata": {},
   "outputs": [],
   "source": [
    "x1 = torch.tensor([1.0], requires_grad=True)\n",
    "x2 = torch.tensor([1.0], requires_grad=True)\n",
    "\n",
    "y = 2 * x1**2 + 3 * x2**3 + 1\n",
    "y.backward(create_graph=True)\n",
    "x1_p = x1.grad\n",
    "x2_p = x2.grad\n",
    "print(x1_p, x2_p)\n"
   ]
  },
  {
   "cell_type": "code",
   "execution_count": null,
   "metadata": {},
   "outputs": [],
   "source": [
    "## same with hessian and jacobian\n",
    "\n"
   ]
  }
 ],
 "metadata": {
  "kernelspec": {
   "display_name": "cop-gpt-XeiTM7fR-py3.11",
   "language": "python",
   "name": "python3"
  },
  "language_info": {
   "name": "python",
   "version": "3.11.8"
  }
 },
 "nbformat": 4,
 "nbformat_minor": 2
}
